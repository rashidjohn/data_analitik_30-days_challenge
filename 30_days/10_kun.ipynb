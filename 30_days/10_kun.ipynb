{
  "nbformat": 4,
  "nbformat_minor": 0,
  "metadata": {
    "colab": {
      "provenance": []
    },
    "kernelspec": {
      "name": "python3",
      "display_name": "Python 3"
    },
    "language_info": {
      "name": "python"
    }
  },
  "cells": [
    {
      "cell_type": "markdown",
      "source": [
        "**Data Scientist uchun A/B test:**\n",
        "\n",
        "Muayyan o'zgarish foydalanuvchi xatti-harakatiga qanday ta'sir qilganini statistik asosda isbotlash.\n",
        "\n",
        "Misollar:\n",
        "\n",
        "```\n",
        "Yangi tugma dizayni konversiyani oshirdimi?\n",
        "```\n",
        "\n",
        "```\n",
        "Yangi narx strategiyasi ko'proq sotuv olib keldimi?\n",
        "```\n",
        "\n",
        "```\n",
        "Email sarlavhasi A va B foydalanuvchilarga qanday ta'sir qildi?\n",
        "```"
      ],
      "metadata": {
        "id": "5rraf9He0lAq"
      }
    },
    {
      "cell_type": "markdown",
      "source": [
        "**Gipoteza tuzish (Statistik asos)**\n",
        "\n",
        "🎯 Noldan gipoteza (H₀):\n",
        "\n",
        "A va B varianti o'rtasida farq yo'q\n",
        "\n",
        "H₀: p_A = p_B\n",
        "\n",
        "💡 Muqobil gipoteza (H₁):\n",
        "\n",
        "A va B variantlar o'rtasida farq bor\n",
        "\n",
        "H₁: p_A ≠ p_B"
      ],
      "metadata": {
        "id": "TjYTh-l304St"
      }
    },
    {
      "cell_type": "markdown",
      "source": [
        "**Eksperiment dizayni (tajriba tuzish)**\n",
        "\n",
        "Bu bosqich Data Scientist uchun muhim!\n",
        "\n",
        "Kerakli jihatlar:\n",
        "\n",
        "| Asosiy narsa     | Tavsif                                              |\n",
        "| ---------------- | --------------------------------------------------- |\n",
        "| 🎯 Target metric | O‘lchanadigan qiymat (konversiya, o‘rtacha savdo)   |\n",
        "| 🧪 Guruhlar      | A (control), B (variant) — tasodifiy ajratish kerak |\n",
        "| 📊 Sample size   | Har bir guruhda yetarli odam bo‘lishi kerak         |\n",
        "| ⏱ Vaqt           | Kamida 1-2 hafta (foydalanuvchi tsikliga qarab)     |\n"
      ],
      "metadata": {
        "id": "TKOhmryY1EdJ"
      }
    },
    {
      "cell_type": "markdown",
      "source": [
        "**Ma'lumot yig'ish**\n",
        "\n",
        "Har bir foydalanuvchi uchun:\n",
        "\n",
        "Guruh (A yoki B)\n",
        "\n",
        "Harakat (bosdimi, sotib oldimi, ochdimi)\n",
        "\n",
        "Vaqt, qurilma, manba, va h.k.\n",
        "\n",
        "Misol uchun DataFrame:\n",
        "\n",
        "| user\\_id | group | clicked |\n",
        "| -------- | ----- | ------- |\n",
        "| 1        | A     | 0       |\n",
        "| 2        | B     | 1       |\n",
        "| 3        | A     | 0       |\n",
        "| 4        | B     | 1       |\n"
      ],
      "metadata": {
        "id": "DIlNaLbW1Q_n"
      }
    },
    {
      "cell_type": "markdown",
      "source": [
        "**Tahlil qilish (Statistical Testing)**\n",
        "\n",
        "Agar metrika:\n",
        "\n",
        "Proporsiya bo'lsa (masalan, bosishlar) → **z-test**\n",
        "\n",
        "O'rtacha qiymat bo'lsa (chek miqdori, savdo) → **t-test**\n",
        "\n",
        "3 yoki undan ortiq guruh bo'lsa → **ANOVA**\n",
        "\n"
      ],
      "metadata": {
        "id": "3pRQk6wj1bPB"
      }
    },
    {
      "cell_type": "markdown",
      "source": [
        "**Python orqali real A/B test tahlili (Proporsiya)**"
      ],
      "metadata": {
        "id": "VSiSuue71oV_"
      }
    },
    {
      "cell_type": "code",
      "execution_count": 1,
      "metadata": {
        "id": "XTIVWSxwvPGH",
        "colab": {
          "base_uri": "https://localhost:8080/"
        },
        "outputId": "ab560e36-aa32-486e-d285-50eab1fc6d5e"
      },
      "outputs": [
        {
          "output_type": "stream",
          "name": "stdout",
          "text": [
            "Z-score: -2.6774\n",
            "P-value: 0.0074\n",
            "Bilan A o‘rtasida statistik farq bor (H1 qabul qilinadi)\n"
          ]
        }
      ],
      "source": [
        "import pandas as pd\n",
        "from statsmodels.stats.proportion import proportions_ztest\n",
        "\n",
        "# Misol data\n",
        "successes = [200, 250]  # A va B guruhida bosganlar soni\n",
        "samples = [1000, 1000]  # Har bir guruhdagi foydalanuvchilar soni\n",
        "\n",
        "# Z-test (proportion)\n",
        "stat, pval = proportions_ztest(count=successes, nobs=samples)\n",
        "\n",
        "print(f\"Z-score: {stat:.4f}\")\n",
        "print(f\"P-value: {pval:.4f}\")\n",
        "\n",
        "if pval < 0.05:\n",
        "    print(\"Bilan A o‘rtasida statistik farq bor (H1 qabul qilinadi)\")\n",
        "else:\n",
        "    print(\"Farq statistik ahamiyatga ega emas (H0 rad qilinmaydi)\")"
      ]
    },
    {
      "cell_type": "markdown",
      "source": [
        "**Tahlil natijasi va tavsiyalar**\n",
        "\n",
        "Talqin qilish:\n",
        "\n",
        "p-value < 0.05: farq tasodif emas → yangilanishni joriy qilish mumkin\n",
        "\n",
        "p-value > 0.05: farq yo‘q → eskisini saqlab qolish mumkin\n",
        "\n",
        "Uplift (yaxshilanish foizi) ham hisoblanadi:"
      ],
      "metadata": {
        "id": "QJpp5c-X1thm"
      }
    },
    {
      "cell_type": "code",
      "source": [
        "p_A = 200 / 1000\n",
        "p_B = 250 / 1000\n",
        "\n",
        "uplift = (p_B - p_A) / p_A * 100\n",
        "print(f\"Yaxshilanish (uplift): {uplift:.2f}%\")"
      ],
      "metadata": {
        "colab": {
          "base_uri": "https://localhost:8080/"
        },
        "id": "6q1lKSymowQs",
        "outputId": "77d0f1ea-b0dd-42d4-d462-7e46c66312e9"
      },
      "execution_count": 2,
      "outputs": [
        {
          "output_type": "stream",
          "name": "stdout",
          "text": [
            "Yaxshilanish (uplift): 25.00%\n"
          ]
        }
      ]
    },
    {
      "cell_type": "markdown",
      "source": [
        "**A/B testda muhim statistik tushunchalar**"
      ],
      "metadata": {
        "id": "LVFvh-la19Bi"
      }
    },
    {
      "cell_type": "markdown",
      "source": [
        "| Termin                | Ma’nosi                                                                   |\n",
        "| --------------------- | ------------------------------------------------------------------------- |\n",
        "| **p-value**           | Farq tasodif bo‘lish ehtimoli (past bo‘lsa, yaxshi)                       |\n",
        "| **alpha (α)**         | Qabul qilingan xatolik darajasi (odatda 0.05)                             |\n",
        "| **confidence level**  | Ishonch darajasi (odatda 95%)                                             |\n",
        "| **statistical power** | Haqiqiy farqni aniqlash imkoniyati (odatda 80% dan yuqori bo‘lishi kerak) |\n"
      ],
      "metadata": {
        "id": "G8KseXXf2AMp"
      }
    },
    {
      "cell_type": "markdown",
      "source": [
        "Sample size (namuna hajmi)ni oldindan hisoblash\n",
        "\n",
        "Bu uchun statsmodels yoki scipy kutubxonalaridan foydalaniladi:"
      ],
      "metadata": {
        "id": "y_5deF5E2Vtq"
      }
    },
    {
      "cell_type": "code",
      "source": [
        "from statsmodels.stats.power import zt_ind_solve_power\n",
        "\n",
        "# Misol: proporsiya A = 0.1, B = 0.12, alpha = 0.05, power = 0.8\n",
        "effect_size = 0.12 - 0.10\n",
        "sample_size = zt_ind_solve_power(effect_size=0.02, alpha=0.05, power=0.8, alternative='two-sided')\n",
        "print(f\"Kerakli sample size: {int(sample_size)} foydalanuvchi har bir guruhga\")"
      ],
      "metadata": {
        "colab": {
          "base_uri": "https://localhost:8080/"
        },
        "id": "UWSP0WzypYI1",
        "outputId": "2da274ed-041d-49ab-9d64-c2a63f9a294d"
      },
      "execution_count": 3,
      "outputs": [
        {
          "output_type": "stream",
          "name": "stdout",
          "text": [
            "Kerakli sample size: 39244 foydalanuvchi har bir guruhga\n"
          ]
        }
      ]
    },
    {
      "cell_type": "markdown",
      "source": [
        "A/B testni noto'g'ri bajarishdan ehtiyot bo'ling\n",
        "\n",
        "| Xatolik                                        | Tushuntirish              |\n",
        "| ---------------------------------------------- | ------------------------- |\n",
        "| 🎯 Noto‘g‘ri gipoteza                          | Aniq savol yo‘q           |\n",
        "| 🧮 Yetarli sample yo‘q                         | Natija ishonchsiz bo‘ladi |\n",
        "| ⏰ Testni erta to‘xtatish                       | Yolg‘on ijobiy chiqadi    |\n",
        "| 🔁 Foydalanuvchini bir necha guruhga tushirish | Biased natija beradi      |\n"
      ],
      "metadata": {
        "id": "nGSUuv1x2ZZi"
      }
    },
    {
      "cell_type": "markdown",
      "source": [
        "Kutubxonalarni chaqirish"
      ],
      "metadata": {
        "id": "uyAyRb7Y21Rj"
      }
    },
    {
      "cell_type": "code",
      "source": [
        "import numpy as np\n",
        "import pandas as pd\n",
        "from statsmodels.stats.proportion import proportions_ztest\n",
        "import matplotlib.pyplot as plt\n",
        "import seaborn as sns"
      ],
      "metadata": {
        "id": "Qf2QiiGTpgIa"
      },
      "execution_count": 4,
      "outputs": []
    },
    {
      "cell_type": "markdown",
      "source": [
        "Data yaratish"
      ],
      "metadata": {
        "id": "pBLBYJAw2841"
      }
    },
    {
      "cell_type": "code",
      "source": [
        "# Random urug‘ (reproducibility uchun)\n",
        "np.random.seed(42)\n",
        "\n",
        "# Guruh o'lchami\n",
        "n_A = 1000\n",
        "n_B = 1000\n",
        "\n",
        "# Konversiya ehtimollari (A pastroq, B balandroq)\n",
        "p_A = 0.10\n",
        "p_B = 0.12\n",
        "\n",
        "# Har bir foydalanuvchi bosdimi yoki yo‘qmi\n",
        "group_A = np.random.binomial(1, p_A, n_A)\n",
        "group_B = np.random.binomial(1, p_B, n_B)\n",
        "\n",
        "# DataFrame shaklida birlashtirish\n",
        "df = pd.DataFrame({\n",
        "    'group': ['A'] * n_A + ['B'] * n_B,\n",
        "    'converted': np.concatenate([group_A, group_B])\n",
        "})\n",
        "\n",
        "df.head()"
      ],
      "metadata": {
        "colab": {
          "base_uri": "https://localhost:8080/",
          "height": 206
        },
        "id": "rh5AJpwG24sJ",
        "outputId": "e705fe2e-0711-4ea5-a744-a4946e019d67"
      },
      "execution_count": 6,
      "outputs": [
        {
          "output_type": "execute_result",
          "data": {
            "text/plain": [
              "  group  converted\n",
              "0     A          0\n",
              "1     A          1\n",
              "2     A          0\n",
              "3     A          0\n",
              "4     A          0"
            ],
            "text/html": [
              "\n",
              "  <div id=\"df-8223a2da-3e4c-40ec-8ac7-225d8c203f10\" class=\"colab-df-container\">\n",
              "    <div>\n",
              "<style scoped>\n",
              "    .dataframe tbody tr th:only-of-type {\n",
              "        vertical-align: middle;\n",
              "    }\n",
              "\n",
              "    .dataframe tbody tr th {\n",
              "        vertical-align: top;\n",
              "    }\n",
              "\n",
              "    .dataframe thead th {\n",
              "        text-align: right;\n",
              "    }\n",
              "</style>\n",
              "<table border=\"1\" class=\"dataframe\">\n",
              "  <thead>\n",
              "    <tr style=\"text-align: right;\">\n",
              "      <th></th>\n",
              "      <th>group</th>\n",
              "      <th>converted</th>\n",
              "    </tr>\n",
              "  </thead>\n",
              "  <tbody>\n",
              "    <tr>\n",
              "      <th>0</th>\n",
              "      <td>A</td>\n",
              "      <td>0</td>\n",
              "    </tr>\n",
              "    <tr>\n",
              "      <th>1</th>\n",
              "      <td>A</td>\n",
              "      <td>1</td>\n",
              "    </tr>\n",
              "    <tr>\n",
              "      <th>2</th>\n",
              "      <td>A</td>\n",
              "      <td>0</td>\n",
              "    </tr>\n",
              "    <tr>\n",
              "      <th>3</th>\n",
              "      <td>A</td>\n",
              "      <td>0</td>\n",
              "    </tr>\n",
              "    <tr>\n",
              "      <th>4</th>\n",
              "      <td>A</td>\n",
              "      <td>0</td>\n",
              "    </tr>\n",
              "  </tbody>\n",
              "</table>\n",
              "</div>\n",
              "    <div class=\"colab-df-buttons\">\n",
              "\n",
              "  <div class=\"colab-df-container\">\n",
              "    <button class=\"colab-df-convert\" onclick=\"convertToInteractive('df-8223a2da-3e4c-40ec-8ac7-225d8c203f10')\"\n",
              "            title=\"Convert this dataframe to an interactive table.\"\n",
              "            style=\"display:none;\">\n",
              "\n",
              "  <svg xmlns=\"http://www.w3.org/2000/svg\" height=\"24px\" viewBox=\"0 -960 960 960\">\n",
              "    <path d=\"M120-120v-720h720v720H120Zm60-500h600v-160H180v160Zm220 220h160v-160H400v160Zm0 220h160v-160H400v160ZM180-400h160v-160H180v160Zm440 0h160v-160H620v160ZM180-180h160v-160H180v160Zm440 0h160v-160H620v160Z\"/>\n",
              "  </svg>\n",
              "    </button>\n",
              "\n",
              "  <style>\n",
              "    .colab-df-container {\n",
              "      display:flex;\n",
              "      gap: 12px;\n",
              "    }\n",
              "\n",
              "    .colab-df-convert {\n",
              "      background-color: #E8F0FE;\n",
              "      border: none;\n",
              "      border-radius: 50%;\n",
              "      cursor: pointer;\n",
              "      display: none;\n",
              "      fill: #1967D2;\n",
              "      height: 32px;\n",
              "      padding: 0 0 0 0;\n",
              "      width: 32px;\n",
              "    }\n",
              "\n",
              "    .colab-df-convert:hover {\n",
              "      background-color: #E2EBFA;\n",
              "      box-shadow: 0px 1px 2px rgba(60, 64, 67, 0.3), 0px 1px 3px 1px rgba(60, 64, 67, 0.15);\n",
              "      fill: #174EA6;\n",
              "    }\n",
              "\n",
              "    .colab-df-buttons div {\n",
              "      margin-bottom: 4px;\n",
              "    }\n",
              "\n",
              "    [theme=dark] .colab-df-convert {\n",
              "      background-color: #3B4455;\n",
              "      fill: #D2E3FC;\n",
              "    }\n",
              "\n",
              "    [theme=dark] .colab-df-convert:hover {\n",
              "      background-color: #434B5C;\n",
              "      box-shadow: 0px 1px 3px 1px rgba(0, 0, 0, 0.15);\n",
              "      filter: drop-shadow(0px 1px 2px rgba(0, 0, 0, 0.3));\n",
              "      fill: #FFFFFF;\n",
              "    }\n",
              "  </style>\n",
              "\n",
              "    <script>\n",
              "      const buttonEl =\n",
              "        document.querySelector('#df-8223a2da-3e4c-40ec-8ac7-225d8c203f10 button.colab-df-convert');\n",
              "      buttonEl.style.display =\n",
              "        google.colab.kernel.accessAllowed ? 'block' : 'none';\n",
              "\n",
              "      async function convertToInteractive(key) {\n",
              "        const element = document.querySelector('#df-8223a2da-3e4c-40ec-8ac7-225d8c203f10');\n",
              "        const dataTable =\n",
              "          await google.colab.kernel.invokeFunction('convertToInteractive',\n",
              "                                                    [key], {});\n",
              "        if (!dataTable) return;\n",
              "\n",
              "        const docLinkHtml = 'Like what you see? Visit the ' +\n",
              "          '<a target=\"_blank\" href=https://colab.research.google.com/notebooks/data_table.ipynb>data table notebook</a>'\n",
              "          + ' to learn more about interactive tables.';\n",
              "        element.innerHTML = '';\n",
              "        dataTable['output_type'] = 'display_data';\n",
              "        await google.colab.output.renderOutput(dataTable, element);\n",
              "        const docLink = document.createElement('div');\n",
              "        docLink.innerHTML = docLinkHtml;\n",
              "        element.appendChild(docLink);\n",
              "      }\n",
              "    </script>\n",
              "  </div>\n",
              "\n",
              "\n",
              "    <div id=\"df-bff2fa1c-1737-4a90-973b-1bc5894725e9\">\n",
              "      <button class=\"colab-df-quickchart\" onclick=\"quickchart('df-bff2fa1c-1737-4a90-973b-1bc5894725e9')\"\n",
              "                title=\"Suggest charts\"\n",
              "                style=\"display:none;\">\n",
              "\n",
              "<svg xmlns=\"http://www.w3.org/2000/svg\" height=\"24px\"viewBox=\"0 0 24 24\"\n",
              "     width=\"24px\">\n",
              "    <g>\n",
              "        <path d=\"M19 3H5c-1.1 0-2 .9-2 2v14c0 1.1.9 2 2 2h14c1.1 0 2-.9 2-2V5c0-1.1-.9-2-2-2zM9 17H7v-7h2v7zm4 0h-2V7h2v10zm4 0h-2v-4h2v4z\"/>\n",
              "    </g>\n",
              "</svg>\n",
              "      </button>\n",
              "\n",
              "<style>\n",
              "  .colab-df-quickchart {\n",
              "      --bg-color: #E8F0FE;\n",
              "      --fill-color: #1967D2;\n",
              "      --hover-bg-color: #E2EBFA;\n",
              "      --hover-fill-color: #174EA6;\n",
              "      --disabled-fill-color: #AAA;\n",
              "      --disabled-bg-color: #DDD;\n",
              "  }\n",
              "\n",
              "  [theme=dark] .colab-df-quickchart {\n",
              "      --bg-color: #3B4455;\n",
              "      --fill-color: #D2E3FC;\n",
              "      --hover-bg-color: #434B5C;\n",
              "      --hover-fill-color: #FFFFFF;\n",
              "      --disabled-bg-color: #3B4455;\n",
              "      --disabled-fill-color: #666;\n",
              "  }\n",
              "\n",
              "  .colab-df-quickchart {\n",
              "    background-color: var(--bg-color);\n",
              "    border: none;\n",
              "    border-radius: 50%;\n",
              "    cursor: pointer;\n",
              "    display: none;\n",
              "    fill: var(--fill-color);\n",
              "    height: 32px;\n",
              "    padding: 0;\n",
              "    width: 32px;\n",
              "  }\n",
              "\n",
              "  .colab-df-quickchart:hover {\n",
              "    background-color: var(--hover-bg-color);\n",
              "    box-shadow: 0 1px 2px rgba(60, 64, 67, 0.3), 0 1px 3px 1px rgba(60, 64, 67, 0.15);\n",
              "    fill: var(--button-hover-fill-color);\n",
              "  }\n",
              "\n",
              "  .colab-df-quickchart-complete:disabled,\n",
              "  .colab-df-quickchart-complete:disabled:hover {\n",
              "    background-color: var(--disabled-bg-color);\n",
              "    fill: var(--disabled-fill-color);\n",
              "    box-shadow: none;\n",
              "  }\n",
              "\n",
              "  .colab-df-spinner {\n",
              "    border: 2px solid var(--fill-color);\n",
              "    border-color: transparent;\n",
              "    border-bottom-color: var(--fill-color);\n",
              "    animation:\n",
              "      spin 1s steps(1) infinite;\n",
              "  }\n",
              "\n",
              "  @keyframes spin {\n",
              "    0% {\n",
              "      border-color: transparent;\n",
              "      border-bottom-color: var(--fill-color);\n",
              "      border-left-color: var(--fill-color);\n",
              "    }\n",
              "    20% {\n",
              "      border-color: transparent;\n",
              "      border-left-color: var(--fill-color);\n",
              "      border-top-color: var(--fill-color);\n",
              "    }\n",
              "    30% {\n",
              "      border-color: transparent;\n",
              "      border-left-color: var(--fill-color);\n",
              "      border-top-color: var(--fill-color);\n",
              "      border-right-color: var(--fill-color);\n",
              "    }\n",
              "    40% {\n",
              "      border-color: transparent;\n",
              "      border-right-color: var(--fill-color);\n",
              "      border-top-color: var(--fill-color);\n",
              "    }\n",
              "    60% {\n",
              "      border-color: transparent;\n",
              "      border-right-color: var(--fill-color);\n",
              "    }\n",
              "    80% {\n",
              "      border-color: transparent;\n",
              "      border-right-color: var(--fill-color);\n",
              "      border-bottom-color: var(--fill-color);\n",
              "    }\n",
              "    90% {\n",
              "      border-color: transparent;\n",
              "      border-bottom-color: var(--fill-color);\n",
              "    }\n",
              "  }\n",
              "</style>\n",
              "\n",
              "      <script>\n",
              "        async function quickchart(key) {\n",
              "          const quickchartButtonEl =\n",
              "            document.querySelector('#' + key + ' button');\n",
              "          quickchartButtonEl.disabled = true;  // To prevent multiple clicks.\n",
              "          quickchartButtonEl.classList.add('colab-df-spinner');\n",
              "          try {\n",
              "            const charts = await google.colab.kernel.invokeFunction(\n",
              "                'suggestCharts', [key], {});\n",
              "          } catch (error) {\n",
              "            console.error('Error during call to suggestCharts:', error);\n",
              "          }\n",
              "          quickchartButtonEl.classList.remove('colab-df-spinner');\n",
              "          quickchartButtonEl.classList.add('colab-df-quickchart-complete');\n",
              "        }\n",
              "        (() => {\n",
              "          let quickchartButtonEl =\n",
              "            document.querySelector('#df-bff2fa1c-1737-4a90-973b-1bc5894725e9 button');\n",
              "          quickchartButtonEl.style.display =\n",
              "            google.colab.kernel.accessAllowed ? 'block' : 'none';\n",
              "        })();\n",
              "      </script>\n",
              "    </div>\n",
              "\n",
              "    </div>\n",
              "  </div>\n"
            ],
            "application/vnd.google.colaboratory.intrinsic+json": {
              "type": "dataframe",
              "variable_name": "df",
              "summary": "{\n  \"name\": \"df\",\n  \"rows\": 2000,\n  \"fields\": [\n    {\n      \"column\": \"group\",\n      \"properties\": {\n        \"dtype\": \"category\",\n        \"num_unique_values\": 2,\n        \"samples\": [\n          \"B\",\n          \"A\"\n        ],\n        \"semantic_type\": \"\",\n        \"description\": \"\"\n      }\n    },\n    {\n      \"column\": \"converted\",\n      \"properties\": {\n        \"dtype\": \"number\",\n        \"std\": 0,\n        \"min\": 0,\n        \"max\": 1,\n        \"num_unique_values\": 2,\n        \"samples\": [\n          1,\n          0\n        ],\n        \"semantic_type\": \"\",\n        \"description\": \"\"\n      }\n    }\n  ]\n}"
            }
          },
          "metadata": {},
          "execution_count": 6
        }
      ]
    },
    {
      "cell_type": "markdown",
      "source": [
        "Ma'lumotlarni tahlil qilish"
      ],
      "metadata": {
        "id": "tD0G-NVW3A7o"
      }
    },
    {
      "cell_type": "code",
      "source": [
        "# Guruhlar bo‘yicha konversiya foizlari\n",
        "conversion_rates = df.groupby('group')['converted'].mean()\n",
        "print(conversion_rates)"
      ],
      "metadata": {
        "colab": {
          "base_uri": "https://localhost:8080/"
        },
        "id": "3bz_aeSc3B20",
        "outputId": "ccffb2a9-5d5d-4825-8325-efb0a76ba24b"
      },
      "execution_count": 7,
      "outputs": [
        {
          "output_type": "stream",
          "name": "stdout",
          "text": [
            "group\n",
            "A    0.100\n",
            "B    0.112\n",
            "Name: converted, dtype: float64\n"
          ]
        }
      ]
    },
    {
      "cell_type": "markdown",
      "source": [
        "Vizualizatsiya"
      ],
      "metadata": {
        "id": "NthQg5lW3MYz"
      }
    },
    {
      "cell_type": "code",
      "source": [
        "sns.barplot(x='group', y='converted', data=df)\n",
        "plt.title(\"Konversiya foizlari (A vs B)\")\n",
        "plt.ylabel(\"Konversiya darajasi\")\n",
        "plt.show()"
      ],
      "metadata": {
        "colab": {
          "base_uri": "https://localhost:8080/",
          "height": 472
        },
        "id": "YORHgXV73Chr",
        "outputId": "a5ae31ba-c020-4388-da05-17588dbe04f1"
      },
      "execution_count": 8,
      "outputs": [
        {
          "output_type": "display_data",
          "data": {
            "text/plain": [
              "<Figure size 640x480 with 1 Axes>"
            ],
            "image/png": "[encoded data removed]"
          },
          "metadata": {}
        }
      ]
    },
    {
      "cell_type": "markdown",
      "source": [
        "Z-test (proporsiyalar farqini tekshirish)"
      ],
      "metadata": {
        "id": "3LWTHEgy3S5p"
      }
    },
    {
      "cell_type": "code",
      "source": [
        "successes = df.groupby('group')['converted'].sum().values\n",
        "samples = df.groupby('group')['converted'].count().values\n",
        "\n",
        "z_stat, p_value = proportions_ztest(count=successes, nobs=samples)\n",
        "\n",
        "print(f\"Z-statistic: {z_stat:.4f}\")\n",
        "print(f\"P-value: {p_value:.4f}\")\n",
        "\n",
        "if p_value < 0.05:\n",
        "    print(\"✅ Farq statistik jihatdan muhim (H0 rad qilindi)\")\n",
        "else:\n",
        "    print(\"❌ Farq statistik jihatdan ahamiyatli emas (H0 rad qilinmadi)\")"
      ],
      "metadata": {
        "colab": {
          "base_uri": "https://localhost:8080/"
        },
        "id": "g1C-Ab-Z3LBl",
        "outputId": "ef9eca0b-1941-43b6-f625-133e2682a688"
      },
      "execution_count": 9,
      "outputs": [
        {
          "output_type": "stream",
          "name": "stdout",
          "text": [
            "Z-statistic: -0.8717\n",
            "P-value: 0.3834\n",
            "❌ Farq statistik jihatdan ahamiyatli emas (H0 rad qilinmadi)\n"
          ]
        }
      ]
    },
    {
      "cell_type": "markdown",
      "source": [
        "Uplift (farq foizi) hisoblash"
      ],
      "metadata": {
        "id": "x4VAAvCq3Wa4"
      }
    },
    {
      "cell_type": "code",
      "source": [
        "uplift = (conversion_rates['B'] - conversion_rates['A']) / conversion_rates['A'] * 100\n",
        "print(f\"Yaxshilanish (uplift): {uplift:.2f}%\")"
      ],
      "metadata": {
        "colab": {
          "base_uri": "https://localhost:8080/"
        },
        "id": "AP6vuqjr3UtM",
        "outputId": "8b706736-4def-4bf3-c380-2206c3222eff"
      },
      "execution_count": 10,
      "outputs": [
        {
          "output_type": "stream",
          "name": "stdout",
          "text": [
            "Yaxshilanish (uplift): 12.00%\n"
          ]
        }
      ]
    },
    {
      "cell_type": "code",
      "source": [],
      "metadata": {
        "id": "WrhC4X203Ym_"
      },
      "execution_count": null,
      "outputs": []
    }
  ]
}