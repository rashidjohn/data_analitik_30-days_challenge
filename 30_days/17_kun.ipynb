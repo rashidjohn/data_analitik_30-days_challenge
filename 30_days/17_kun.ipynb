{
  "nbformat": 4,
  "nbformat_minor": 0,
  "metadata": {
    "colab": {
      "provenance": []
    },
    "kernelspec": {
      "name": "python3",
      "display_name": "Python 3"
    },
    "language_info": {
      "name": "python"
    }
  },
  "cells": [
    {
      "cell_type": "markdown",
      "source": [
        "**Klassifikatsiya** — bu nazorat ostidagi mashinani o'rganish (Supervised Learning) usuli bo'lib, model kiruvchi xususiyatlar asosida oldindan belgilangan toifalardan birini bashorat qiladi.\n",
        "\n",
        "* E-mail: Spam yoki emas (2 sinf - Binary classification)\n",
        "\n",
        "* Rasmda: Mushuk, it yoki qush (Ko'p sinf - Multiclass classification)\n",
        "\n",
        "* Tibbiyotda: Kasal yoki sog'\n",
        "\n",
        "Quyidagi algoritmlar eng ko'p ishlatiladiganlardir:\n",
        "\n",
        "1. Logistic Regression ➝ sodda, tushunarli\n",
        "\n",
        "2. KNN (K-Nearest Neighbors) ➝ statistikaga asoslangan\n",
        "\n",
        "3. Decision Tree ➝ qaror daraxti\n",
        "\n",
        "4. Random Forest ➝ ko‘p daraxtli ansambl\n",
        "\n",
        "5. Naive Bayes ➝ ehtimollikka asoslangan\n",
        "\n",
        "6. SVM (Support Vector Machine) ➝ murakkab chiziqlar\n",
        "\n",
        "7. Gradient Boosting (XGBoost, LightGBM) ➝ kuchli ansambllar\n",
        "\n",
        "8. Neural Networks (MLPClassifier) ➝ sun'iy neyron tarmoqlar"
      ],
      "metadata": {
        "id": "ZUd1O5vL4aGM"
      }
    },
    {
      "cell_type": "markdown",
      "source": [
        "| **Algoritm**                  | **Kuchli jihatlari**                       | **Kamchiliklari**                                   |\n",
        "| ----------------------------- | ------------------------------------------ | --------------------------------------------------- |\n",
        "| **Logistic Regression**       | Sodda, tez, tushunarli                     | Faqat chiziqli ajratish uchun ishlaydi              |\n",
        "| **KNN (K-Nearest Neighbors)** | Model qurishsiz ishlaydi, oson tushuniladi | Katta datasetda sekin ishlaydi, xotira talab qiladi |\n",
        "| **Decision Tree**             | Oson tushuniladi, vizual                   | Overfittingga moyil                                 |\n",
        "| **Random Forest**             | Barqaror, yuqori aniqlik                   | Sekinroq ishlaydi, interpretatsiyasi qiyin          |\n",
        "| **Naive Bayes**               | Juda tez, kam resurs talab qiladi          | Mustaqillik taxmini har doim to‘g‘ri emas           |\n",
        "| **SVM**                       | Murakkab chiziqlar bilan yaxshi ajratadi   | Katta datasetlarda sekin, sozlash murakkab          |\n",
        "| **XGBoost / LightGBM**        | Kuchli natija beradi, ansambl usuli        | Resurs va vaqt ko‘proq talab qiladi                 |\n",
        "| **Neural Networks**           | Murakkab muammolarni hal qiladi            | Uzoq o‘qitiladi, tushunish va sozlash murakkab      |\n"
      ],
      "metadata": {
        "id": "u9xSmZEf5P4B"
      }
    },
    {
      "cell_type": "markdown",
      "source": [
        "| **Mezon**                | **Formulasi / Izohi**                                  | **Tavsifi**                                        |\n",
        "| ------------------------ | ------------------------------------------------------ | -------------------------------------------------- |\n",
        "| **Accuracy**             | (To‘g‘ri bashoratlar soni) ÷ (Jami namunalar soni)     | Umumiy to‘g‘rilik darajasi                         |\n",
        "| **Precision**            | TP / (TP + FP)                                         | Ijobiy deb bashorat qilinganlarning nechta haqiqiy |\n",
        "| **Recall (Sensitivity)** | TP / (TP + FN)                                         | Haqiqiy ijobiylarning nechta to‘g‘ri topilganlari  |\n",
        "| **F1-Score**             | 2 × (Precision × Recall) / (Precision + Recall)        | Precision va Recall o‘rtasidagi muvozanat          |\n",
        "| **Confusion Matrix**     | TP, TN, FP, FN sonlarini to‘g‘ridan-to‘g‘ri ko‘rsatadi | Natijalarni batafsil tahlil qilish uchun           |\n"
      ],
      "metadata": {
        "id": "a0lwlyOa5Sd3"
      }
    },
    {
      "cell_type": "markdown",
      "source": [
        "Bu yerda:\n",
        "\n",
        "TP – True Positive\n",
        "\n",
        "TN – True Negative\n",
        "\n",
        "FP – False Positive\n",
        "\n",
        "FN – False Negative"
      ],
      "metadata": {
        "id": "GLWBTgfc5Uwn"
      }
    },
    {
      "cell_type": "markdown",
      "source": [
        "Logistik regression"
      ],
      "metadata": {
        "id": "tEcljOnB_DTn"
      }
    },
    {
      "cell_type": "code",
      "source": [
        "from sklearn.datasets import load_iris\n",
        "from sklearn.linear_model import LogisticRegression\n",
        "from sklearn.model_selection import train_test_split\n",
        "from sklearn.metrics import classification_report\n",
        "\n",
        "# Ma'lumotlar\n",
        "iris = load_iris()\n",
        "X, y = iris.data, iris.target\n",
        "\n",
        "# 2 sinfga cheklaymiz (binary)\n",
        "X, y = X[y != 2], y[y != 2]\n",
        "\n",
        "# Bo‘lish\n",
        "X_train, X_test, y_train, y_test = train_test_split(X, y, random_state=0)\n",
        "\n",
        "# Model\n",
        "model = LogisticRegression()\n",
        "model.fit(X_train, y_train)\n",
        "\n",
        "# Bashorat\n",
        "y_pred = model.predict(X_test)\n",
        "\n",
        "print(classification_report(y_test, y_pred))"
      ],
      "metadata": {
        "colab": {
          "base_uri": "https://localhost:8080/"
        },
        "id": "hz40iQWz5Asq",
        "outputId": "027b1bb6-0886-436d-9415-69ec9c35c09b"
      },
      "execution_count": 2,
      "outputs": [
        {
          "output_type": "stream",
          "name": "stdout",
          "text": [
            "              precision    recall  f1-score   support\n",
            "\n",
            "           0       1.00      1.00      1.00        13\n",
            "           1       1.00      1.00      1.00        12\n",
            "\n",
            "    accuracy                           1.00        25\n",
            "   macro avg       1.00      1.00      1.00        25\n",
            "weighted avg       1.00      1.00      1.00        25\n",
            "\n"
          ]
        }
      ]
    },
    {
      "cell_type": "markdown",
      "source": [
        "KNN - K-Nearest Neighbors"
      ],
      "metadata": {
        "id": "wmxiVjVI_LdC"
      }
    },
    {
      "cell_type": "code",
      "source": [
        "from sklearn.neighbors import KNeighborsClassifier\n",
        "\n",
        "model = KNeighborsClassifier(n_neighbors=3)\n",
        "model.fit(X_train, y_train)\n",
        "\n",
        "y_pred = model.predict(X_test)\n",
        "print(classification_report(y_test, y_pred))"
      ],
      "metadata": {
        "colab": {
          "base_uri": "https://localhost:8080/"
        },
        "id": "pREfjhig_BxM",
        "outputId": "a5533a0c-2a1a-43a2-a7a2-cc2a16ec8851"
      },
      "execution_count": 3,
      "outputs": [
        {
          "output_type": "stream",
          "name": "stdout",
          "text": [
            "              precision    recall  f1-score   support\n",
            "\n",
            "           0       1.00      1.00      1.00        13\n",
            "           1       1.00      1.00      1.00        12\n",
            "\n",
            "    accuracy                           1.00        25\n",
            "   macro avg       1.00      1.00      1.00        25\n",
            "weighted avg       1.00      1.00      1.00        25\n",
            "\n"
          ]
        }
      ]
    },
    {
      "cell_type": "markdown",
      "source": [
        "Decision Tree"
      ],
      "metadata": {
        "id": "n0hkL9vN_Tx4"
      }
    },
    {
      "cell_type": "code",
      "source": [
        "from sklearn.tree import DecisionTreeClassifier\n",
        "\n",
        "model = DecisionTreeClassifier(max_depth=3)\n",
        "model.fit(X_train, y_train)\n",
        "\n",
        "y_pred = model.predict(X_test)\n",
        "print(classification_report(y_test, y_pred))"
      ],
      "metadata": {
        "colab": {
          "base_uri": "https://localhost:8080/"
        },
        "id": "fpl3Aopl_K45",
        "outputId": "60cfddd3-efc4-4bb4-b56e-3986e176f6d3"
      },
      "execution_count": 4,
      "outputs": [
        {
          "output_type": "stream",
          "name": "stdout",
          "text": [
            "              precision    recall  f1-score   support\n",
            "\n",
            "           0       1.00      1.00      1.00        13\n",
            "           1       1.00      1.00      1.00        12\n",
            "\n",
            "    accuracy                           1.00        25\n",
            "   macro avg       1.00      1.00      1.00        25\n",
            "weighted avg       1.00      1.00      1.00        25\n",
            "\n"
          ]
        }
      ]
    },
    {
      "cell_type": "markdown",
      "source": [
        "Random Forest"
      ],
      "metadata": {
        "id": "CPuod1sK_X-I"
      }
    },
    {
      "cell_type": "code",
      "source": [
        "from sklearn.ensemble import RandomForestClassifier\n",
        "\n",
        "model = RandomForestClassifier(n_estimators=100)\n",
        "model.fit(X_train, y_train)\n",
        "\n",
        "y_pred = model.predict(X_test)\n",
        "print(classification_report(y_test, y_pred))"
      ],
      "metadata": {
        "colab": {
          "base_uri": "https://localhost:8080/"
        },
        "id": "hB8Ip1Qw_RtO",
        "outputId": "25257991-ec3c-4868-cb7d-2ac3f5f8b071"
      },
      "execution_count": 5,
      "outputs": [
        {
          "output_type": "stream",
          "name": "stdout",
          "text": [
            "              precision    recall  f1-score   support\n",
            "\n",
            "           0       1.00      1.00      1.00        13\n",
            "           1       1.00      1.00      1.00        12\n",
            "\n",
            "    accuracy                           1.00        25\n",
            "   macro avg       1.00      1.00      1.00        25\n",
            "weighted avg       1.00      1.00      1.00        25\n",
            "\n"
          ]
        }
      ]
    },
    {
      "cell_type": "markdown",
      "source": [
        "Naive Bayes"
      ],
      "metadata": {
        "id": "4S6exp98_dLU"
      }
    },
    {
      "cell_type": "code",
      "source": [
        "from sklearn.naive_bayes import GaussianNB\n",
        "\n",
        "model = GaussianNB()\n",
        "model.fit(X_train, y_train)\n",
        "\n",
        "y_pred = model.predict(X_test)\n",
        "print(classification_report(y_test, y_pred))"
      ],
      "metadata": {
        "colab": {
          "base_uri": "https://localhost:8080/"
        },
        "id": "cFTWKzvq_WUk",
        "outputId": "79cd442e-f8a0-4e02-e17f-d5aeb3d4ce58"
      },
      "execution_count": 6,
      "outputs": [
        {
          "output_type": "stream",
          "name": "stdout",
          "text": [
            "              precision    recall  f1-score   support\n",
            "\n",
            "           0       1.00      1.00      1.00        13\n",
            "           1       1.00      1.00      1.00        12\n",
            "\n",
            "    accuracy                           1.00        25\n",
            "   macro avg       1.00      1.00      1.00        25\n",
            "weighted avg       1.00      1.00      1.00        25\n",
            "\n"
          ]
        }
      ]
    },
    {
      "cell_type": "markdown",
      "source": [
        "Support Vector Machine (SVM)"
      ],
      "metadata": {
        "id": "2Y4GxOaC_18s"
      }
    },
    {
      "cell_type": "code",
      "source": [
        "from sklearn.svm import SVC\n",
        "\n",
        "model = SVC(kernel='linear')\n",
        "model.fit(X_train, y_train)\n",
        "\n",
        "y_pred = model.predict(X_test)\n",
        "print(classification_report(y_test, y_pred))"
      ],
      "metadata": {
        "colab": {
          "base_uri": "https://localhost:8080/"
        },
        "id": "CH9fuOJ1_bRa",
        "outputId": "b1faaa55-8f40-403f-8f3c-bf3c885c9452"
      },
      "execution_count": 7,
      "outputs": [
        {
          "output_type": "stream",
          "name": "stdout",
          "text": [
            "              precision    recall  f1-score   support\n",
            "\n",
            "           0       1.00      1.00      1.00        13\n",
            "           1       1.00      1.00      1.00        12\n",
            "\n",
            "    accuracy                           1.00        25\n",
            "   macro avg       1.00      1.00      1.00        25\n",
            "weighted avg       1.00      1.00      1.00        25\n",
            "\n"
          ]
        }
      ]
    },
    {
      "cell_type": "markdown",
      "source": [
        "Gradient Boosting (XGBoost)"
      ],
      "metadata": {
        "id": "87xE_xZz_5K2"
      }
    },
    {
      "cell_type": "code",
      "source": [
        "from xgboost import XGBClassifier\n",
        "\n",
        "model = XGBClassifier(use_label_encoder=False, eval_metric='mlogloss')\n",
        "model.fit(X_train, y_train)\n",
        "\n",
        "y_pred = model.predict(X_test)\n",
        "print(classification_report(y_test, y_pred))"
      ],
      "metadata": {
        "colab": {
          "base_uri": "https://localhost:8080/"
        },
        "id": "IQCCfIn2_3lT",
        "outputId": "9a77f15b-a13a-4498-b023-02b1bf6d0a6e"
      },
      "execution_count": 8,
      "outputs": [
        {
          "output_type": "stream",
          "name": "stdout",
          "text": [
            "              precision    recall  f1-score   support\n",
            "\n",
            "           0       1.00      1.00      1.00        13\n",
            "           1       1.00      1.00      1.00        12\n",
            "\n",
            "    accuracy                           1.00        25\n",
            "   macro avg       1.00      1.00      1.00        25\n",
            "weighted avg       1.00      1.00      1.00        25\n",
            "\n"
          ]
        },
        {
          "output_type": "stream",
          "name": "stderr",
          "text": [
            "/usr/local/lib/python3.11/dist-packages/xgboost/core.py:158: UserWarning: [20:07:11] WARNING: /workspace/src/learner.cc:740: \n",
            "Parameters: { \"use_label_encoder\" } are not used.\n",
            "\n",
            "  warnings.warn(smsg, UserWarning)\n"
          ]
        }
      ]
    },
    {
      "cell_type": "code",
      "source": [],
      "metadata": {
        "id": "C-m_ftw1_7d-"
      },
      "execution_count": null,
      "outputs": []
    }
  ]
}