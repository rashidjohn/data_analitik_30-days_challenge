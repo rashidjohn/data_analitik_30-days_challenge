{
  "nbformat": 4,
  "nbformat_minor": 0,
  "metadata": {
    "colab": {
      "provenance": [],
      "collapsed_sections": [
        "ne3Unz1ThJ2y",
        "fWiiUl_bhOgK",
        "f2wBGz-Zg8HR",
        "uccz7JM06x0Z",
        "5fgCxvKkCd6f",
        "9_RbNxAPCht9",
        "YO37bTAtHCSU",
        "hGIZ6lTfMHlj",
        "ukQQpfVz-Lma",
        "h0cXJpZk_NuN",
        "_UAIkKiA_aE0"
      ]
    },
    "kernelspec": {
      "name": "python3",
      "display_name": "Python 3"
    },
    "language_info": {
      "name": "python"
    }
  },
  "cells": [
    {
      "cell_type": "markdown",
      "source": [
        "# 1768. Merge Strings Alternately"
      ],
      "metadata": {
        "id": "ne3Unz1ThJ2y"
      }
    },
    {
      "cell_type": "markdown",
      "source": [
        "you are given two strings word1 and word2. Merge the strings by adding letters in alternating order, starting with word1. If a string is longer than the other, append the additional letters onto the end of the merged string.\n",
        "\n",
        "Return the merged string.\n",
        "\n",
        "\n",
        "\n",
        "Example 1:\n",
        "\n",
        "Input: word1 = \"abc\", word2 = \"pqr\"\n",
        "Output: \"apbqcr\"\n",
        "Explanation: The merged string will be merged as so:\n",
        "word1:  a   b   c\n",
        "word2:    p   q   r\n",
        "merged: a p b q c r\n",
        "\n",
        "Example 2:\n",
        "\n",
        "Input: word1 = \"ab\", word2 = \"pqrs\"\n",
        "Output: \"apbqrs\"\n",
        "Explanation: Notice that as word2 is longer, \"rs\" is appended to the end.\n",
        "word1:  a   b\n",
        "word2:    p   q   r   s\n",
        "merged: a p b q   r   s\n",
        "\n",
        "Example 3:\n",
        "\n",
        "Input: word1 = \"abcd\", word2 = \"pq\"\n",
        "Output: \"apbqcd\"\n",
        "Explanation: Notice that as word1 is longer, \"cd\" is appended to the end.\n",
        "word1:  a   b   c   d\n",
        "word2:    p   q\n",
        "merged: a p b q c   d\n",
        "\n",
        "\n",
        "Constraints:\n",
        "\n",
        "1 <= word1.length, word2.length <= 100\n",
        "word1 and word2 consist of lowercase English letters."
      ],
      "metadata": {
        "id": "pUCfuveCMjyU"
      }
    },
    {
      "cell_type": "code",
      "execution_count": null,
      "metadata": {
        "id": "Toj-ih8YMf7y"
      },
      "outputs": [],
      "source": [
        "def mergeAlternately(word1, word2):\n",
        "  result = \"\"\n",
        "  i = 0\n",
        "  while i < len(word1) and i < len(word2):\n",
        "    result += word1[i] + word2[i]\n",
        "    i += 1\n",
        "  result += word1[i:] + word2[i:]\n",
        "  return result"
      ]
    },
    {
      "cell_type": "code",
      "source": [
        "print(mergeAlternately(\"abc\", \"pqr\"))\n",
        "print(mergeAlternately(\"ab\", \"pqrs\"))\n",
        "print(mergeAlternately(\"abcd\", \"pq\"))"
      ],
      "metadata": {
        "colab": {
          "base_uri": "https://localhost:8080/"
        },
        "id": "G6UJu-5dNVXL",
        "outputId": "3dca1c29-bb40-4327-e11b-ce27fdb8bf9e"
      },
      "execution_count": null,
      "outputs": [
        {
          "output_type": "stream",
          "name": "stdout",
          "text": [
            "apbqcr\n",
            "apbqrs\n",
            "apbqcd\n"
          ]
        }
      ]
    },
    {
      "cell_type": "markdown",
      "source": [
        "# 1071. Greatest Common Divisor of Strings"
      ],
      "metadata": {
        "id": "fWiiUl_bhOgK"
      }
    },
    {
      "cell_type": "markdown",
      "source": [
        "For two strings s and t, we say \"t divides s\" if and only if s = t + t + t + ... + t + t (i.e., t is concatenated with itself one or more times).\n",
        "\n",
        "Given two strings str1 and str2, return the largest string x such that x divides both str1 and str2.\n",
        "\n",
        "\n",
        "\n",
        "Example 1:\n",
        "\n",
        "Input: str1 = \"ABCABC\", str2 = \"ABC\"\n",
        "\n",
        "Output: \"ABC\"\n",
        "\n",
        "Example 2:\n",
        "\n",
        "Input: str1 = \"ABABAB\", str2 = \"ABAB\"\n",
        "\n",
        "Output: \"AB\"\n",
        "\n",
        "Example 3:\n",
        "\n",
        "Input: str1 = \"LEET\", str2 = \"CODE\"\n",
        "\n",
        "Output: \"\"\n",
        "\n",
        "\n",
        "Constraints:\n",
        "\n",
        "1 <= str1.length, str2.length <= 1000\n",
        "str1 and str2 consist of English uppercase letters."
      ],
      "metadata": {
        "id": "3OYgv1XWGWCt"
      }
    },
    {
      "cell_type": "code",
      "source": [
        "def gcdOfStrings(str1, str2):\n",
        "    len1 = len(str1)\n",
        "    len2 = len(str2)\n",
        "    while len1 != len2:\n",
        "        if len1 > len2:\n",
        "            len1 -= len2\n",
        "        else:\n",
        "            len2 -= len1\n",
        "    gcd = len1\n",
        "    qism = str1[:gcd]\n",
        "    for i in range(0, len(str1), gcd):\n",
        "        if str1[i:i+gcd] != qism:\n",
        "            return \"\"\n",
        "    for i in range(0, len(str2), gcd):\n",
        "        if str2[i:i+gcd] != qism:\n",
        "            return \"\"\n",
        "    return qism"
      ],
      "metadata": {
        "id": "9mUTvG5BNYpt"
      },
      "execution_count": null,
      "outputs": []
    },
    {
      "cell_type": "code",
      "source": [
        "print(gcdOfStrings(\"LEET\", \"CODE\"))\n",
        "print(gcdOfStrings(\"ABABAB\", \"ABAB\"))"
      ],
      "metadata": {
        "colab": {
          "base_uri": "https://localhost:8080/"
        },
        "id": "0sjG-zf4GSzs",
        "outputId": "019913fa-a275-464f-c7a4-16baf276b7f2"
      },
      "execution_count": null,
      "outputs": [
        {
          "output_type": "stream",
          "name": "stdout",
          "text": [
            "\n",
            "AB\n"
          ]
        }
      ]
    },
    {
      "cell_type": "markdown",
      "source": [
        "# 1431. Kids With the Greatest Number of Candies"
      ],
      "metadata": {
        "id": "f2wBGz-Zg8HR"
      }
    },
    {
      "cell_type": "markdown",
      "source": [
        "here are n kids with candies. You are given an integer array candies, where each candies[i] represents the number of candies the ith kid has, and an integer extraCandies, denoting the number of extra candies that you have.\n",
        "\n",
        "Return a boolean array result of length n, where result[i] is true if, after giving the ith kid all the extraCandies, they will have the greatest number of candies among all the kids, or false otherwise.\n",
        "\n",
        "Note that multiple kids can have the greatest number of candies.\n",
        "\n",
        "\n",
        "\n",
        "Example 1:\n",
        "\n",
        "Input: candies = [2,3,5,1,3], extraCandies = 3\n",
        "Output: [true,true,true,false,true]\n",
        "Explanation: If you give all extraCandies to:\n",
        "- Kid 1, they will have 2 + 3 = 5 candies, which is the greatest among the kids.\n",
        "- Kid 2, they will have 3 + 3 = 6 candies, which is the greatest among the kids.\n",
        "- Kid 3, they will have 5 + 3 = 8 candies, which is the greatest among the kids.\n",
        "- Kid 4, they will have 1 + 3 = 4 candies, which is not the greatest among the kids.\n",
        "- Kid 5, they will have 3 + 3 = 6 candies, which is the greatest among the kids.\n",
        "Example 2:\n",
        "\n",
        "Input: candies = [4,2,1,1,2], extraCandies = 1\n",
        "Output: [true,false,false,false,false]\n",
        "Explanation: There is only 1 extra candy.\n",
        "Kid 1 will always have the greatest number of candies, even if a different kid is given the extra candy.\n",
        "Example 3:\n",
        "\n",
        "Input: candies = [12,1,12], extraCandies = 10\n",
        "Output: [true,false,true]\n",
        "\n",
        "\n",
        "Constraints:\n",
        "\n",
        "n == candies.length\n",
        "2 <= n <= 100\n",
        "1 <= candies[i] <= 100\n",
        "1 <= extraCandies <= 50"
      ],
      "metadata": {
        "id": "T3Y_U_hvpefu"
      }
    },
    {
      "cell_type": "code",
      "source": [
        "def kidsWithCandies(candies, extraCandies):\n",
        "    max_condy = max(candies)\n",
        "    return [max_condy <= candy + extraCandies for candy in candies]"
      ],
      "metadata": {
        "id": "Mohv_-OQg9g5"
      },
      "execution_count": null,
      "outputs": []
    },
    {
      "cell_type": "markdown",
      "source": [
        "# 605. Can Place Flowers"
      ],
      "metadata": {
        "id": "uccz7JM06x0Z"
      }
    },
    {
      "cell_type": "markdown",
      "source": [
        "You have a long flowerbed in which some of the plots are planted, and some are not. However, flowers cannot be planted in adjacent plots.\n",
        "\n",
        "Given an integer array flowerbed containing 0's and 1's, where 0 means empty and 1 means not empty, and an integer n, return true if n new flowers can be planted in the flowerbed without violating the no-adjacent-flowers rule and false otherwise.\n",
        "\n",
        "\n",
        "\n",
        "Example 1:\n",
        "\n",
        "Input: flowerbed = [1,0,0,0,1], n = 1\n",
        "Output: true\n",
        "Example 2:\n",
        "\n",
        "Input: flowerbed = [1,0,0,0,1], n = 2\n",
        "Output: false\n",
        "\n",
        "\n",
        "Constraints:\n",
        "\n",
        "1 <= flowerbed.length <= 2 * 104\n",
        "flowerbed[i] is 0 or 1.\n",
        "There are no two adjacent flowers in flowerbed.\n",
        "0 <= n <= flowerbed.length"
      ],
      "metadata": {
        "id": "TEKPR7JZ66vG"
      }
    },
    {
      "cell_type": "code",
      "source": [
        "def canPlaceFlowers(flowerbed, n):\n",
        "    if n==0:\n",
        "        return True\n",
        "    for i in range(len(flowerbed)):\n",
        "        if flowerbed[i] == 0 and (i == 0 or flowerbed[i-1] == 0) and (i == len(flowerbed)-1 or flowerbed[i+1] == 0):\n",
        "            flowerbed[i] = 1\n",
        "            n -= 1\n",
        "            if n == 0:\n",
        "                return True\n",
        "    return False"
      ],
      "metadata": {
        "id": "2UQnLOiI6zIi"
      },
      "execution_count": null,
      "outputs": []
    },
    {
      "cell_type": "code",
      "source": [
        "print(canPlaceFlowers([1,0,0,0,1],1))\n",
        "print(canPlaceFlowers([1,0,0,0,1],2))"
      ],
      "metadata": {
        "colab": {
          "base_uri": "https://localhost:8080/"
        },
        "id": "hS2NkPz8jPyp",
        "outputId": "5a50711e-14f8-4975-d62d-7572e45aac26"
      },
      "execution_count": null,
      "outputs": [
        {
          "output_type": "stream",
          "name": "stdout",
          "text": [
            "True\n",
            "False\n"
          ]
        }
      ]
    },
    {
      "cell_type": "code",
      "source": [],
      "metadata": {
        "id": "Nhwzv2B8jtnP"
      },
      "execution_count": null,
      "outputs": []
    },
    {
      "cell_type": "markdown",
      "source": [
        "# 345. Reverse Vowels of a String"
      ],
      "metadata": {
        "id": "5fgCxvKkCd6f"
      }
    },
    {
      "cell_type": "markdown",
      "source": [
        "Given a string s, reverse only all the vowels in the string and return it.\n",
        "\n",
        "The vowels are 'a', 'e', 'i', 'o', and 'u', and they can appear in both lower and upper cases, more than once.\n",
        "\n",
        "\n",
        "\n",
        "Example 1:\n",
        "\n",
        "Input: s = \"IceCreAm\"\n",
        "\n",
        "Output: \"AceCreIm\"\n",
        "\n",
        "Explanation:\n",
        "\n",
        "The vowels in s are ['I', 'e', 'e', 'A']. On reversing the vowels, s becomes \"AceCreIm\".\n",
        "\n",
        "Example 2:\n",
        "\n",
        "Input: s = \"leetcode\"\n",
        "\n",
        "Output: \"leotcede\"\n",
        "\n",
        "\n",
        "\n",
        "Constraints:\n",
        "\n",
        "1 <= s.length <= 3 * 10^5\n",
        "s consist of printable ASCII characters."
      ],
      "metadata": {
        "id": "PNoL9I0qxncR"
      }
    },
    {
      "cell_type": "code",
      "source": [
        "def reverseVowels(s):\n",
        "    unlilar = ['a','e','o','i','u', 'A','E','O','I','U']\n",
        "    s_unli = []\n",
        "    j = 0\n",
        "    for i in s:\n",
        "        if i in unlilar:\n",
        "            s_unli.append(i)\n",
        "    s_unli.reverse()\n",
        "    s = list(s)\n",
        "    for i in range(len(s)):\n",
        "        if s[i] in unlilar:\n",
        "            s[i] = s_unli[j]\n",
        "            j += 1\n",
        "    return ''.join(s)"
      ],
      "metadata": {
        "id": "jdM2US3dzJAe"
      },
      "execution_count": null,
      "outputs": []
    },
    {
      "cell_type": "code",
      "source": [
        "print(reverseVowels(\"leetcode\"))\n",
        "print(reverseVowels(\"IceCreAm\"))"
      ],
      "metadata": {
        "id": "BmEuKY5x1WzV"
      },
      "execution_count": null,
      "outputs": []
    },
    {
      "cell_type": "code",
      "source": [],
      "metadata": {
        "id": "z2pnL_zx1XPv"
      },
      "execution_count": null,
      "outputs": []
    },
    {
      "cell_type": "markdown",
      "source": [
        "# 151. Reverse Words in a String"
      ],
      "metadata": {
        "id": "9_RbNxAPCht9"
      }
    },
    {
      "cell_type": "markdown",
      "source": [
        "A word is defined as a sequence of non-space characters. The words in s will be separated by at least one space.\n",
        "\n",
        "Return a string of the words in reverse order concatenated by a single space.\n",
        "\n",
        "Note that s may contain leading or trailing spaces or multiple spaces between two words. The returned string should only have a single space separating the words. Do not include any extra spaces.\n",
        "\n",
        "\n",
        "\n",
        "Example 1:\n",
        "\n",
        "Input: s = \"the sky is blue\"\n",
        "\n",
        "Output: \"blue is sky the\"\n",
        "\n",
        "Example 2:\n",
        "\n",
        "Input: s = \"  hello world  \"\n",
        "\n",
        "Output: \"world hello\"\n",
        "\n",
        "Explanation: Your reversed string should not contain leading or trailing spaces.\n",
        "\n",
        "Example 3:\n",
        "\n",
        "Input: s = \"a good   example\"\n",
        "\n",
        "Output: \"example good a\"\n",
        "\n",
        "Explanation: You need to reduce multiple spaces between two words to a single\n",
        "space in the reversed string.\n",
        "\n",
        "\n",
        "Constraints:\n",
        "\n",
        "1 <= s.length <= 104\n",
        "s contains English letters (upper-case and lower-case), digits, and spaces ' '.\n",
        "There is at least one word in s.\n",
        "\n",
        "\n",
        "Follow-up: If the string data type is mutable in your language, can you solve it in-place with O(1) extra space?"
      ],
      "metadata": {
        "id": "8VdUCAM1CsmG"
      }
    },
    {
      "cell_type": "code",
      "source": [
        "def reverseWords(s):\n",
        "    words = s.split()\n",
        "    s = words[::-1]\n",
        "    return ' '.join(s)"
      ],
      "metadata": {
        "id": "B7t_YIv7CphO"
      },
      "execution_count": null,
      "outputs": []
    },
    {
      "cell_type": "code",
      "source": [
        "reverseWords(\"the sky is blue\")"
      ],
      "metadata": {
        "colab": {
          "base_uri": "https://localhost:8080/",
          "height": 36
        },
        "id": "5YfmfV0lEeOq",
        "outputId": "90908016-f41a-48f0-a2a5-56d95ccf22e4"
      },
      "execution_count": null,
      "outputs": [
        {
          "output_type": "execute_result",
          "data": {
            "text/plain": [
              "'blue is sky the'"
            ],
            "application/vnd.google.colaboratory.intrinsic+json": {
              "type": "string"
            }
          },
          "metadata": {},
          "execution_count": 3
        }
      ]
    },
    {
      "cell_type": "code",
      "source": [
        "reverseWords(\"  hello world  \")"
      ],
      "metadata": {
        "colab": {
          "base_uri": "https://localhost:8080/",
          "height": 36
        },
        "id": "Nd9xyGJWFWaz",
        "outputId": "59e51ade-2d53-4609-a168-3e59f46eee35"
      },
      "execution_count": null,
      "outputs": [
        {
          "output_type": "execute_result",
          "data": {
            "text/plain": [
              "'world hello'"
            ],
            "application/vnd.google.colaboratory.intrinsic+json": {
              "type": "string"
            }
          },
          "metadata": {},
          "execution_count": 4
        }
      ]
    },
    {
      "cell_type": "code",
      "source": [
        "reverseWords(\"a good   example\")"
      ],
      "metadata": {
        "id": "VStNwkHSFb5P",
        "outputId": "5f0a2a10-f879-4ef6-d169-f02f7a2bec9e",
        "colab": {
          "base_uri": "https://localhost:8080/",
          "height": 36
        }
      },
      "execution_count": null,
      "outputs": [
        {
          "output_type": "execute_result",
          "data": {
            "text/plain": [
              "'example good a'"
            ],
            "application/vnd.google.colaboratory.intrinsic+json": {
              "type": "string"
            }
          },
          "metadata": {},
          "execution_count": 5
        }
      ]
    },
    {
      "cell_type": "code",
      "source": [],
      "metadata": {
        "id": "X7ltQTplFf3w"
      },
      "execution_count": null,
      "outputs": []
    },
    {
      "cell_type": "markdown",
      "source": [
        "# 238. Product of Array Except Self"
      ],
      "metadata": {
        "id": "YO37bTAtHCSU"
      }
    },
    {
      "cell_type": "markdown",
      "source": [
        "Given an integer array nums, return an array answer such that answer[i] is equal to the product of all the elements of nums except nums[i].\n",
        "\n",
        "The product of any prefix or suffix of nums is guaranteed to fit in a 32-bit integer.\n",
        "\n",
        "You must write an algorithm that runs in O(n) time and without using the division operation.\n",
        "\n",
        "\n",
        "\n",
        "Example 1:\n",
        "\n",
        "Input: nums = [1,2,3,4]\n",
        "\n",
        "Output: [24,12,8,6]\n",
        "\n",
        "Example 2:\n",
        "\n",
        "Input: nums = [-1,1,0,-3,3]\n",
        "\n",
        "Output: [0,0,9,0,0]\n",
        "\n",
        "\n",
        "Constraints:\n",
        "\n",
        "2 <= nums.length <= 105\n",
        "\n",
        "-30 <= nums[i] <= 30\n",
        "\n",
        "The input is generated such that answer[i] is guaranteed to fit in a 32-bit integer.\n",
        "\n",
        "\n",
        "Follow up: Can you solve the problem in O(1) extra space complexity? (The output array does not count as extra space for space complexity analysis.)"
      ],
      "metadata": {
        "id": "pkAG-CFDHI-1"
      }
    },
    {
      "cell_type": "code",
      "source": [
        "def productExceptSelf(nums):\n",
        "    n = len(nums)\n",
        "    answer = [1] * n\n",
        "    left_product = 1\n",
        "    for i in range(n):\n",
        "        answer[i] = left_product\n",
        "        left_product *= nums[i]\n",
        "    right_product = 1\n",
        "    for i in range(n - 1, -1, -1):\n",
        "        answer[i] *= right_product\n",
        "        right_product *= nums[i]\n",
        "\n",
        "    return answer\n"
      ],
      "metadata": {
        "id": "fHT5kkeCHDKH"
      },
      "execution_count": null,
      "outputs": []
    },
    {
      "cell_type": "code",
      "source": [
        "productExceptSelf([1,2,3,4])"
      ],
      "metadata": {
        "colab": {
          "base_uri": "https://localhost:8080/"
        },
        "id": "RQ6QDrHpN2pu",
        "outputId": "d132cf84-c591-43bc-db33-71a21294c191"
      },
      "execution_count": null,
      "outputs": [
        {
          "output_type": "execute_result",
          "data": {
            "text/plain": [
              "[24, 12, 8, 6]"
            ]
          },
          "metadata": {},
          "execution_count": 32
        }
      ]
    },
    {
      "cell_type": "code",
      "source": [],
      "metadata": {
        "id": "3EeNXekkN6nV"
      },
      "execution_count": null,
      "outputs": []
    },
    {
      "cell_type": "markdown",
      "source": [
        "# 334. Increasing Triplet Subsequence"
      ],
      "metadata": {
        "id": "hGIZ6lTfMHlj"
      }
    },
    {
      "cell_type": "markdown",
      "source": [
        "Given an integer array nums, return true if there exists a triple of indices (i, j, k) such that i < j < k and nums[i] < nums[j] < nums[k]. If no such indices exists, return false.\n",
        "\n",
        "\n",
        "\n",
        "Example 1:\n",
        "\n",
        "Input: nums = [1,2,3,4,5]\n",
        "\n",
        "Output: true\n",
        "\n",
        "Explanation: Any triplet where i < j < k is valid.\n",
        "\n",
        "Example 2:\n",
        "\n",
        "Input: nums = [5,4,3,2,1]\n",
        "\n",
        "Output: false\n",
        "\n",
        "Explanation: No triplet exists.\n",
        "\n",
        "Example 3:\n",
        "\n",
        "Input: nums = [2,1,5,0,4,6]\n",
        "\n",
        "Output: true\n",
        "\n",
        "Explanation: The triplet (3, 4, 5) is valid because nums[3] == 0 < nums[4] == 4 < nums[5] == 6.\n",
        "\n",
        "\n",
        "Constraints:\n",
        "\n",
        "1 <= nums.length <= 5 * 105\n",
        "-231 <= nums[i] <= 231 - 1\n",
        "\n",
        "\n",
        "Follow up: Could you implement a solution that runs in O(n) time complexity and O(1) space complexity?"
      ],
      "metadata": {
        "id": "10AZKBmRPw-u"
      }
    },
    {
      "cell_type": "code",
      "source": [
        "def increasingTriplet(nums):\n",
        "    first = float('inf')\n",
        "    second = float('inf')\n",
        "\n",
        "    for num in nums:\n",
        "        if num <= first:\n",
        "            first = num\n",
        "        elif num <= second:\n",
        "            second = num\n",
        "        else:\n",
        "            return True\n",
        "\n",
        "    return False"
      ],
      "metadata": {
        "id": "purEqCiCMIud"
      },
      "execution_count": null,
      "outputs": []
    },
    {
      "cell_type": "code",
      "source": [],
      "metadata": {
        "id": "Kuxfj9RZYbBl"
      },
      "execution_count": null,
      "outputs": []
    },
    {
      "cell_type": "markdown",
      "source": [
        "# 443. String Compression"
      ],
      "metadata": {
        "id": "ukQQpfVz-Lma"
      }
    },
    {
      "cell_type": "markdown",
      "source": [
        "Given an array of characters chars, compress it using the following algorithm:\n",
        "\n",
        "Begin with an empty string s. For each group of consecutive repeating characters in chars:\n",
        "\n",
        "If the group's length is 1, append the character to s.\n",
        "\n",
        "Otherwise, append the character followed by the group's length.\n",
        "\n",
        "The compressed string s should not be returned separately, but instead, be stored in the input character array chars. Note that group lengths that are 10 or longer will be split into multiple characters in chars.\n",
        "\n",
        "After you are done modifying the input array, return the new length of the array.\n",
        "\n",
        "You must write an algorithm that uses only constant extra space.\n",
        "\n",
        "\n",
        "\n",
        "Example 1:\n",
        "\n",
        "Input: chars = [\"a\",\"a\",\"b\",\"b\",\"c\",\"c\",\"c\"]\n",
        "\n",
        "Output: Return 6, and the first 6 characters of the input array should be: [\"a\",\"2\",\"b\",\"2\",\"c\",\"3\"]\n",
        "\n",
        "Explanation: The groups are \"aa\", \"bb\", and \"ccc\". This compresses to \"a2b2c3\".\n",
        "\n",
        "Example 2:\n",
        "\n",
        "Input: chars = [\"a\"]\n",
        "\n",
        "Output: Return 1, and the first character of the input array should be: [\"a\"]\n",
        "\n",
        "Explanation: The only group is \"a\", which remains uncompressed since it's a single character.\n",
        "\n",
        "Example 3:\n",
        "\n",
        "Input: chars = [\"a\",\"b\",\"b\",\"b\",\"b\",\"b\",\"b\",\"b\",\"b\",\"b\",\"b\",\"b\",\"b\"]\n",
        "\n",
        "Output: Return 4, and the first 4 characters of the input array should be: [\"a\",\"b\",\"1\",\"2\"].\n",
        "\n",
        "Explanation: The groups are \"a\" and \"bbbbbbbbbbbb\". This compresses to \"ab12\".\n",
        "\n",
        "\n",
        "Constraints:\n",
        "\n",
        "1 <= chars.length <= 2000\n",
        "chars[i] is a lowercase English letter, uppercase English letter, digit, or symbol."
      ],
      "metadata": {
        "id": "zW85wyqkCkbw"
      }
    },
    {
      "cell_type": "code",
      "source": [
        "def compress(chars):\n",
        "    write = 0\n",
        "    read = 0\n",
        "    while read < len(chars):\n",
        "        ch = chars[read]\n",
        "        count = 0\n",
        "        while read < len(chars) and chars[read] == ch:\n",
        "            read += 1\n",
        "            count += 1\n",
        "        chars[write] = ch\n",
        "        write += 1\n",
        "        if count > 1:\n",
        "            for digit in str(count):\n",
        "                chars[write] = digit\n",
        "                write += 1\n",
        "\n",
        "    return write"
      ],
      "metadata": {
        "id": "V-BN6tV6-MeS"
      },
      "execution_count": null,
      "outputs": []
    },
    {
      "cell_type": "code",
      "source": [
        "compress([\"a\",\"a\",\"b\",\"b\",\"c\",\"c\",\"c\"])"
      ],
      "metadata": {
        "colab": {
          "base_uri": "https://localhost:8080/"
        },
        "id": "xMkHpO0oQG7W",
        "outputId": "b72c97df-9cb1-46d2-e7bf-a672f3049bcd"
      },
      "execution_count": null,
      "outputs": [
        {
          "output_type": "execute_result",
          "data": {
            "text/plain": [
              "6"
            ]
          },
          "metadata": {},
          "execution_count": 2
        }
      ]
    },
    {
      "cell_type": "code",
      "source": [],
      "metadata": {
        "id": "J7TirqWsQImb"
      },
      "execution_count": null,
      "outputs": []
    },
    {
      "cell_type": "markdown",
      "source": [
        "# 283. Move Zeroes"
      ],
      "metadata": {
        "id": "h0cXJpZk_NuN"
      }
    },
    {
      "cell_type": "markdown",
      "source": [
        "Given an integer array nums, move all 0's to the end of it while maintaining the relative order of the non-zero elements.\n",
        "\n",
        "Note that you must do this in-place without making a copy of the array.\n",
        "\n",
        "\n",
        "\n",
        "Example 1:\n",
        "\n",
        "Input: nums = [0,1,0,3,12]\n",
        "\n",
        "Output: [1,3,12,0,0]\n",
        "\n",
        "Example 2:\n",
        "\n",
        "Input: nums = [0]\n",
        "\n",
        "Output: [0]\n",
        "\n",
        "\n",
        "Constraints:\n",
        "\n",
        "1 <= nums.length <= 104\n",
        "\n",
        "-231 <= nums[i] <= 231 - 1\n"
      ],
      "metadata": {
        "id": "bEMV5-U5_TFE"
      }
    },
    {
      "cell_type": "code",
      "source": [
        "def moveZeroes(nums):\n",
        "    i = 0\n",
        "    for num in nums:\n",
        "        if num != 0:\n",
        "            nums[i] = num\n",
        "            i+=1\n",
        "    while i < len(nums):\n",
        "        nums[i] = 0\n",
        "        i+=1\n",
        "    return nums"
      ],
      "metadata": {
        "id": "eZi0NJuVB8RC"
      },
      "execution_count": null,
      "outputs": []
    },
    {
      "cell_type": "code",
      "source": [
        "moveZeroes([0,1,0,3,12])"
      ],
      "metadata": {
        "colab": {
          "base_uri": "https://localhost:8080/"
        },
        "id": "MWXHWVHqCAT6",
        "outputId": "dfe28e3d-3ae1-4e05-8b13-d202fe87ac46"
      },
      "execution_count": null,
      "outputs": [
        {
          "output_type": "execute_result",
          "data": {
            "text/plain": [
              "[1, 3, 12, 0, 0]"
            ]
          },
          "metadata": {},
          "execution_count": 12
        }
      ]
    },
    {
      "cell_type": "markdown",
      "source": [
        "# 392. Is Subsequence"
      ],
      "metadata": {
        "id": "_UAIkKiA_aE0"
      }
    },
    {
      "cell_type": "markdown",
      "source": [
        "Given two strings s and t, return true if s is a subsequence of t, or false otherwise.\n",
        "\n",
        "A subsequence of a string is a new string that is formed from the original string by deleting some (can be none) of the characters without disturbing the relative positions of the remaining characters. (i.e., \"ace\" is a subsequence of \"abcde\" while \"aec\" is not).\n",
        "\n",
        "\n",
        "\n",
        "Example 1:\n",
        "\n",
        "Input: s = \"abc\", t = \"ahbgdc\"\n",
        "\n",
        "Output: true\n",
        "\n",
        "Example 2:\n",
        "\n",
        "Input: s = \"axc\", t = \"ahbgdc\"\n",
        "\n",
        "Output: false\n",
        "\n",
        "\n",
        "Constraints:\n",
        "\n",
        "0 <= s.length <= 100\n",
        "\n",
        "0 <= t.length <= 104\n",
        "\n",
        "s and t consist only of lowercase\n",
        "\n",
        "English letters.\n",
        "\n",
        "\n",
        "Follow up: Suppose there are lots of incoming s, say s1, s2, ..., sk where k >= 109, and you want to check one by one to see if t has its subsequence. In this scenario, how would you change your code?"
      ],
      "metadata": {
        "id": "qre_vyB3_fOH"
      }
    },
    {
      "cell_type": "code",
      "source": [
        "def isSubsequence(s, t):\n",
        "    i = 0\n",
        "    for char in t:\n",
        "        if i<len(s) and s[i] == char:\n",
        "            i+=1\n",
        "    return i==len(s)\n"
      ],
      "metadata": {
        "id": "KVlaEBJF_O1F"
      },
      "execution_count": null,
      "outputs": []
    },
    {
      "cell_type": "code",
      "source": [
        "isSubsequence(\"abc\", \"ahbgdc\")"
      ],
      "metadata": {
        "colab": {
          "base_uri": "https://localhost:8080/"
        },
        "id": "d0GlQCzfGbrn",
        "outputId": "38f7c7aa-9d73-47f5-f2ca-05c504bb045f"
      },
      "execution_count": null,
      "outputs": [
        {
          "output_type": "execute_result",
          "data": {
            "text/plain": [
              "True"
            ]
          },
          "metadata": {},
          "execution_count": 14
        }
      ]
    },
    {
      "cell_type": "code",
      "source": [],
      "metadata": {
        "id": "fNYYmF_EGgIi"
      },
      "execution_count": null,
      "outputs": []
    },
    {
      "cell_type": "markdown",
      "source": [
        "# 11. Container With Most Water"
      ],
      "metadata": {
        "id": "QqEecxz60__k"
      }
    },
    {
      "cell_type": "markdown",
      "source": [
        "You are given an integer array height of length n. There are n vertical lines drawn such that the two endpoints of the ith line are (i, 0) and (i, height[i]).\n",
        "\n",
        "Find two lines that together with the x-axis form a container, such that the container contains the most water.\n",
        "\n",
        "Return the maximum amount of water a container can store.\n",
        "\n",
        "Notice that you may not slant the container.\n",
        "\n",
        "\n",
        "\n",
        "Example 1:\n",
        "\n",
        "\n",
        "Input: height = [1,8,6,2,5,4,8,3,7]\n",
        "\n",
        "Output: 49\n",
        "\n",
        "Explanation: The above vertical lines are represented by array [1,8,6,2,5,4,8,3,7]. In this case, the max area of water (blue section) the container can contain is 49.\n",
        "\n",
        "Example 2:\n",
        "\n",
        "Input: height = [1,1]\n",
        "\n",
        "Output: 1\n",
        "\n",
        "\n",
        "Constraints:\n",
        "\n",
        "n == height.length\n",
        "\n",
        "2 <= n <= 105\n",
        "\n",
        "0 <= height[i] <= 104"
      ],
      "metadata": {
        "id": "qhDM9H4e1F0V"
      }
    },
    {
      "cell_type": "code",
      "source": [
        "def maxArea(height):\n",
        "    left = 0\n",
        "    right = len(height) - 1\n",
        "    max_area = 0\n",
        "\n",
        "    while left < right:\n",
        "        width = right - left\n",
        "        h = min(height[left], height[right])\n",
        "        area = width * h\n",
        "        max_area = max(max_area, area)\n",
        "        if height[left] < height[right]:\n",
        "            left += 1\n",
        "        else:\n",
        "            right -= 1\n",
        "\n",
        "    return max_area"
      ],
      "metadata": {
        "id": "Wb7-W3mW-yPc"
      },
      "execution_count": null,
      "outputs": []
    },
    {
      "cell_type": "code",
      "source": [],
      "metadata": {
        "id": "sWkSPRmE-vUS"
      },
      "execution_count": null,
      "outputs": []
    }
  ]
}